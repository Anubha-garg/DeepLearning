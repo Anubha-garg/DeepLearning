{
 "cells": [
  {
   "cell_type": "code",
   "execution_count": 10,
   "metadata": {},
   "outputs": [],
   "source": [
    "from keras.models import load_model\n",
    "from keras.preprocessing import image\n",
    "from matplotlib.pyplot import imshow\n",
    "import numpy as np\n",
    "%matplotlib inline"
   ]
  },
  {
   "cell_type": "code",
   "execution_count": 11,
   "metadata": {},
   "outputs": [],
   "source": [
    "def getSingleFEN(yhat):\n",
    "    \n",
    "    m={\n",
    "    0 : \"0\", #No Piece\n",
    "    1 : \"P\", #White Pawn\n",
    "    2 : \"B\", #White Bishop\n",
    "    3 : \"R\", #White Rook\n",
    "    4 : \"N\", #White Knight\n",
    "    5 : \"K\", #White King\n",
    "    6 : \"Q\", #White Queen\n",
    "    7 : \"p\", #Black pawn\n",
    "    8 : \"b\", #Black bishop \n",
    "    9 : \"r\", #Black rook\n",
    "    10 : \"n\", #Black Knight\n",
    "    11 : \"k\", #Black King\n",
    "    12 : \"q\"  #Black Queen\n",
    "    } \n",
    "    \n",
    "    a =[]\n",
    "    digit =0\n",
    "    for i in range(8):\n",
    "        for j in range(8):\n",
    "            res = m[yhat[8*i +j]]\n",
    "            if res != \"0\":\n",
    "                if digit > 0:\n",
    "                    a.append(str(digit))\n",
    "                    digit=0\n",
    "                a.append(res) \n",
    "            else:\n",
    "                digit += 1\n",
    "        if digit > 0:\n",
    "            a.append(str(digit))\n",
    "            digit=0\n",
    "        a.append(\"-\")         \n",
    "    \n",
    "    \n",
    "    return \"\".join(a[:-1]) "
   ]
  },
  {
   "cell_type": "code",
   "execution_count": 12,
   "metadata": {},
   "outputs": [],
   "source": [
    "def loss(y_true, y_pred): \n",
    "    \n",
    "    \"\"\"\n",
    "    100000 images of a randomly generated chess positions of 5-15 pieces (2 kings and 3-13 pawns/pieces)\n",
    "    Pieces were generated with the following probability distribution:\n",
    "\n",
    "    30% for Pawn\n",
    "    20% for Bishop\n",
    "    20% for Knight\n",
    "    20% for Rook\n",
    "    10% for Queen\n",
    "\n",
    "    2 Kings are guaranteed to be on the board.\n",
    "    \"\"\"\n",
    "    \n",
    "    #The inverse of expectation : assuming average 10 pieces on an image\n",
    "    weights = [1/(64-10),\n",
    "               1/(4*0.3),\n",
    "               1/(4*0.2),\n",
    "               1/(4*0.2),\n",
    "               1/(4*0.2),\n",
    "               1,\n",
    "               1/(4*0.1),\n",
    "               1/(4*0.3),\n",
    "               1/(4*0.2),              \n",
    "               1/(4*0.2),\n",
    "               1/(4*0.2),\n",
    "               1,\n",
    "               1/(4*0.1)]\n",
    "   \n",
    "    loss = y_true * K.log(y_pred) * weights\n",
    "    loss = -K.sum(loss, -1)\n",
    "    return loss"
   ]
  },
  {
   "cell_type": "code",
   "execution_count": 13,
   "metadata": {},
   "outputs": [],
   "source": [
    "def predictAndDisplaySingleNewImage(img_path,model):\n",
    "    \n",
    "    img = image.load_img(img_path,target_size =(400,400))\n",
    "    x = np.array(img)\n",
    "    x = np.expand_dims(x, axis=0)\n",
    "    x = x/255.\n",
    "    \n",
    "    p = model.predict(x)\n",
    "\n",
    "    yhat = []\n",
    "    for i in range(8):\n",
    "        for j in range(8):\n",
    "            yhat.append(np.argmax(p[0,i,j,:]))            \n",
    "            \n",
    "    print(getSingleFEN(yhat)) \n",
    "    imshow(img)"
   ]
  },
  {
   "cell_type": "code",
   "execution_count": 14,
   "metadata": {},
   "outputs": [
    {
     "name": "stdout",
     "output_type": "stream",
     "text": [
      "K6k-8-3p4-8-8-2R5-3p4-3b4\n"
     ]
    },
    {
     "data": {
      "image/png": "[encoded data removed]",
      "text/plain": [
       "<Figure size 432x288 with 1 Axes>"
      ]
     },
     "metadata": {
      "needs_background": "light"
     },
     "output_type": "display_data"
    }
   ],
   "source": [
    "imgPath = 'images/predictImage1.jpeg'\n",
    "modelName = \"my_chess_model6\"\n",
    "model = load_model(modelName,custom_objects={'loss': loss})\n",
    "predictAndDisplaySingleNewImage(imgPath,model)"
   ]
  }
 ],
 "metadata": {
  "kernelspec": {
   "display_name": "Python 3",
   "language": "python",
   "name": "python3"
  },
  "language_info": {
   "codemirror_mode": {
    "name": "ipython",
    "version": 3
   },
   "file_extension": ".py",
   "mimetype": "text/x-python",
   "name": "python",
   "nbconvert_exporter": "python",
   "pygments_lexer": "ipython3",
   "version": "3.7.3"
  }
 },
 "nbformat": 4,
 "nbformat_minor": 2
}
